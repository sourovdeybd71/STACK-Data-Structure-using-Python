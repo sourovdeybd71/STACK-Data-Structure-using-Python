{
 "cells": [
  {
   "cell_type": "code",
   "execution_count": 28,
   "id": "b2adf7a1",
   "metadata": {},
   "outputs": [],
   "source": [
    "from collections import deque\n",
    "stack = deque()\n",
    "stack.append(5)\n",
    "stack.append(6)\n",
    "stack.append(7)\n",
    "stack.append(8)\n"
   ]
  },
  {
   "cell_type": "code",
   "execution_count": 20,
   "id": "83d22c84",
   "metadata": {},
   "outputs": [
    {
     "data": {
      "text/plain": [
       "8"
      ]
     },
     "execution_count": 20,
     "metadata": {},
     "output_type": "execute_result"
    }
   ],
   "source": [
    "stack.pop()"
   ]
  },
  {
   "cell_type": "code",
   "execution_count": 21,
   "id": "c4675d89",
   "metadata": {},
   "outputs": [
    {
     "data": {
      "text/plain": [
       "deque([5, 6, 7])"
      ]
     },
     "execution_count": 21,
     "metadata": {},
     "output_type": "execute_result"
    }
   ],
   "source": [
    "stack"
   ]
  },
  {
   "cell_type": "code",
   "execution_count": 22,
   "id": "e7a106c8",
   "metadata": {},
   "outputs": [],
   "source": [
    "class Stack:\n",
    "    def __init__(self):\n",
    "        self.contain=deque()\n",
    "    \n",
    "    def push(self, value):\n",
    "        self.contain.append(value)\n",
    "    \n",
    "    def pop(self):\n",
    "        return self.contain.pop()\n",
    "    \n",
    "    def peek(self):\n",
    "        return self.contain[-1]\n",
    "    \n",
    "    def is_empty(self):\n",
    "        return len(self.contain)==0\n",
    "    \n",
    "    def size(self):\n",
    "        return len(self.contain)"
   ]
  },
  {
   "cell_type": "code",
   "execution_count": 23,
   "id": "84460789",
   "metadata": {},
   "outputs": [
    {
     "name": "stdout",
     "output_type": "stream",
     "text": [
      "7\n",
      "7\n",
      "False\n",
      "2\n"
     ]
    }
   ],
   "source": [
    "stack = Stack()\n",
    "stack.push(5)\n",
    "stack.push(6)\n",
    "stack.push(7)\n",
    "print(stack.peek())\n",
    "print(stack.pop())\n",
    "print(stack.is_empty())\n",
    "print(stack.size())\n"
   ]
  },
  {
   "cell_type": "code",
   "execution_count": 24,
   "id": "a9edce47",
   "metadata": {},
   "outputs": [],
   "source": [
    "#Exercise\n",
    "#reverse_string(\"I am too bad at Programing\") should return \"gnimargorP ta dab oot ma I\""
   ]
  },
  {
   "cell_type": "code",
   "execution_count": 25,
   "id": "e80afb31",
   "metadata": {},
   "outputs": [
    {
     "name": "stdout",
     "output_type": "stream",
     "text": [
      "Reverse of,  I am too bad at Programing : gnimargorP ta dab oot ma I\n"
     ]
    }
   ],
   "source": [
    "def reverse_string(s):\n",
    "    stack=Stack()\n",
    "    for ch in s:\n",
    "        stack.push(ch)\n",
    "    \n",
    "    rstr=''\n",
    "    while stack.size()!=0:\n",
    "        rstr += stack.pop()\n",
    "    \n",
    "    return rstr\n",
    "\n",
    "if __name__== '__main__':\n",
    "    string = \"I am too bad at Programing\"\n",
    "    print(\"Reverse of, \",string,\":\",reverse_string(string))"
   ]
  },
  {
   "cell_type": "code",
   "execution_count": 26,
   "id": "d98a9155",
   "metadata": {},
   "outputs": [],
   "source": [
    "#Exercise\n",
    "#Write a function in python that checks if paranthesis in the string are balanced or not. \n",
    "#Possible parantheses are \"{}',\"()\" or \"[]\".\n",
    "\n",
    "#Sample input/output:\n",
    "#is_balanced(\"({a+b})\")     --> True\n",
    "#is_balanced(\"))((a+b}{\")   --> False\n",
    "#is_balanced(\"((a+b))\")     --> True\n",
    "#is_balanced(\"))\")          --> False\n",
    "#is_balanced(\"[a+b]*(x+2y)*{gg+kk}\") --> True\n"
   ]
  },
  {
   "cell_type": "code",
   "execution_count": 27,
   "id": "f1ed223a",
   "metadata": {},
   "outputs": [
    {
     "name": "stdout",
     "output_type": "stream",
     "text": [
      "True\n",
      "False\n",
      "True\n",
      "True\n",
      "False\n",
      "True\n"
     ]
    }
   ],
   "source": [
    "def is_match(ch1, ch2):\n",
    "    match_dict = {\n",
    "        ')': '(',\n",
    "        ']': '[',\n",
    "        '}': '{'\n",
    "    }\n",
    "    return match_dict[ch1] == ch2\n",
    "\n",
    "\n",
    "def is_balanced(s):\n",
    "    stack = Stack()\n",
    "    for ch in s:\n",
    "        if ch=='(' or ch=='{' or ch == '[':\n",
    "            stack.push(ch)\n",
    "        if ch==')' or ch=='}' or ch == ']':\n",
    "            if stack.size()==0:\n",
    "                return False\n",
    "            if not is_match(ch,stack.pop()):\n",
    "                return False\n",
    "\n",
    "    return stack.size()==0\n",
    "\n",
    "\n",
    "if __name__ == '__main__':\n",
    "    \n",
    "    print(is_balanced(\"({a+b})\"))\n",
    "    print(is_balanced(\"))((a+b}{\"))\n",
    "    print(is_balanced(\"((a+b))\"))\n",
    "    print(is_balanced(\"((a+g))\"))\n",
    "    print(is_balanced(\"))\"))\n",
    "    print(is_balanced(\"[a+b]*(x+2y)*{gg+kk}\"))"
   ]
  },
  {
   "cell_type": "code",
   "execution_count": null,
   "id": "ad3a33d9",
   "metadata": {},
   "outputs": [],
   "source": []
  },
  {
   "cell_type": "code",
   "execution_count": null,
   "id": "f098a7a9",
   "metadata": {},
   "outputs": [],
   "source": []
  }
 ],
 "metadata": {
  "kernelspec": {
   "display_name": "Python 3 (ipykernel)",
   "language": "python",
   "name": "python3"
  },
  "language_info": {
   "codemirror_mode": {
    "name": "ipython",
    "version": 3
   },
   "file_extension": ".py",
   "mimetype": "text/x-python",
   "name": "python",
   "nbconvert_exporter": "python",
   "pygments_lexer": "ipython3",
   "version": "3.9.7"
  }
 },
 "nbformat": 4,
 "nbformat_minor": 5
}
